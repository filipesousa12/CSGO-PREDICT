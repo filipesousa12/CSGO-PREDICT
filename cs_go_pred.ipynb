{
 "cells": [
  {
   "cell_type": "code",
   "execution_count": 1,
   "source": [
    "#Packages\r\n",
    "import numpy as np\r\n",
    "import pandas as pd\r\n",
    "import tensorflow as tf\r\n",
    "from sklearn.preprocessing import LabelEncoder\r\n",
    "from sklearn.compose import ColumnTransformer\r\n",
    "from sklearn.preprocessing import OneHotEncoder\r\n",
    "from sklearn.model_selection import train_test_split\r\n",
    "from sklearn.preprocessing import StandardScaler"
   ],
   "outputs": [],
   "metadata": {}
  },
  {
   "cell_type": "code",
   "execution_count": 5,
   "source": [
    "#dataset\r\n",
    "\r\n",
    "dataset = pd.read_csv('csgo_round_snapshots.csv')\r\n",
    "\r\n",
    "X = dataset.iloc[:,:-1].values\r\n",
    "y = dataset.iloc[:,-1].values\r\n"
   ],
   "outputs": [
    {
     "output_type": "execute_result",
     "data": {
      "text/plain": [
       "array(['CT', 'CT', 'CT', ..., 'T', 'T', 'T'], dtype=object)"
      ]
     },
     "metadata": {},
     "execution_count": 5
    }
   ],
   "metadata": {}
  },
  {
   "cell_type": "code",
   "execution_count": 6,
   "source": [
    "#enconding \r\n",
    "\r\n",
    "#Enconding categorical data\r\n",
    "le = LabelEncoder()\r\n",
    "X[:, 4] = le.fit_transform(X[:, 4])\r\n",
    "\r\n",
    "ct = ColumnTransformer(transformers=[('encoder', OneHotEncoder(), [3])], remainder='passthrough')\r\n",
    "X = np.array(ct.fit_transform(X))\r\n",
    "\r\n",
    "\r\n"
   ],
   "outputs": [],
   "metadata": {}
  },
  {
   "cell_type": "code",
   "execution_count": 18,
   "source": [
    "#y\r\n",
    "y = le.fit_transform(y)\r\n",
    "y\r\n"
   ],
   "outputs": [
    {
     "output_type": "execute_result",
     "data": {
      "text/plain": [
       "array([0, 0, 0, ..., 1, 1, 1], dtype=int64)"
      ]
     },
     "metadata": {},
     "execution_count": 18
    }
   ],
   "metadata": {}
  },
  {
   "cell_type": "code",
   "execution_count": 19,
   "source": [
    "#train, test split\r\n",
    "\r\n",
    "X_train, X_test, y_train, y_test = train_test_split(X, y, test_size = 0.2, random_state = 0)"
   ],
   "outputs": [],
   "metadata": {}
  },
  {
   "cell_type": "code",
   "execution_count": 22,
   "source": [
    "#Scaling\r\n",
    "sc = StandardScaler()\r\n",
    "X_train = sc.fit_transform(X_train)\r\n",
    "X_test = sc.transform(X_test)\r\n"
   ],
   "outputs": [],
   "metadata": {}
  },
  {
   "cell_type": "code",
   "execution_count": 24,
   "source": [
    "ann = tf.keras.models.Sequential()"
   ],
   "outputs": [],
   "metadata": {}
  },
  {
   "cell_type": "code",
   "execution_count": 28,
   "source": [
    "ann.add(tf.keras.layers.Dense(units=10,activation='relu'))\r\n",
    "ann.add(tf.keras.layers.Dense(units=10,activation='relu'))"
   ],
   "outputs": [],
   "metadata": {}
  },
  {
   "cell_type": "code",
   "execution_count": 29,
   "source": [
    "ann.add(tf.keras.layers.Dense(units=1,activation='sigmoid'))"
   ],
   "outputs": [],
   "metadata": {}
  },
  {
   "cell_type": "code",
   "execution_count": 30,
   "source": [
    "ann.compile(optimizer= 'adam',loss='binary_crossentropy', metrics = ['accuracy'])"
   ],
   "outputs": [],
   "metadata": {}
  },
  {
   "cell_type": "code",
   "execution_count": 31,
   "source": [
    "ann.fit(X_train, y_train, batch_size = 32, epochs = 100)"
   ],
   "outputs": [
    {
     "output_type": "stream",
     "name": "stdout",
     "text": [
      "Epoch 1/100\n",
      "3061/3061 [==============================] - 2s 633us/step - loss: 0.4837 - accuracy: 0.7377\n",
      "Epoch 2/100\n",
      "3061/3061 [==============================] - 2s 632us/step - loss: 0.4545 - accuracy: 0.7530\n",
      "Epoch 3/100\n",
      "3061/3061 [==============================] - 2s 637us/step - loss: 0.4487 - accuracy: 0.7563\n",
      "Epoch 4/100\n",
      "3061/3061 [==============================] - 2s 620us/step - loss: 0.4456 - accuracy: 0.7578\n",
      "Epoch 5/100\n",
      "3061/3061 [==============================] - 2s 643us/step - loss: 0.4432 - accuracy: 0.7592\n",
      "Epoch 6/100\n",
      "3061/3061 [==============================] - 2s 634us/step - loss: 0.4413 - accuracy: 0.7596\n",
      "Epoch 7/100\n",
      "3061/3061 [==============================] - 2s 626us/step - loss: 0.4398 - accuracy: 0.7607\n",
      "Epoch 8/100\n",
      "3061/3061 [==============================] - 2s 669us/step - loss: 0.4392 - accuracy: 0.7601\n",
      "Epoch 9/100\n",
      "3061/3061 [==============================] - 2s 638us/step - loss: 0.4381 - accuracy: 0.7622\n",
      "Epoch 10/100\n",
      "3061/3061 [==============================] - 2s 638us/step - loss: 0.4371 - accuracy: 0.7632\n",
      "Epoch 11/100\n",
      "3061/3061 [==============================] - 2s 639us/step - loss: 0.4364 - accuracy: 0.7635\n",
      "Epoch 12/100\n",
      "3061/3061 [==============================] - 2s 630us/step - loss: 0.4360 - accuracy: 0.7635\n",
      "Epoch 13/100\n",
      "3061/3061 [==============================] - 2s 657us/step - loss: 0.4352 - accuracy: 0.7649\n",
      "Epoch 14/100\n",
      "3061/3061 [==============================] - 2s 647us/step - loss: 0.4346 - accuracy: 0.7659\n",
      "Epoch 15/100\n",
      "3061/3061 [==============================] - 2s 651us/step - loss: 0.4345 - accuracy: 0.7658\n",
      "Epoch 16/100\n",
      "3061/3061 [==============================] - 2s 643us/step - loss: 0.4341 - accuracy: 0.7671\n",
      "Epoch 17/100\n",
      "3061/3061 [==============================] - 2s 603us/step - loss: 0.4333 - accuracy: 0.7676\n",
      "Epoch 18/100\n",
      "3061/3061 [==============================] - 2s 620us/step - loss: 0.4327 - accuracy: 0.7678\n",
      "Epoch 19/100\n",
      "3061/3061 [==============================] - 2s 607us/step - loss: 0.4328 - accuracy: 0.7677\n",
      "Epoch 20/100\n",
      "3061/3061 [==============================] - 2s 611us/step - loss: 0.4323 - accuracy: 0.7684\n",
      "Epoch 21/100\n",
      "3061/3061 [==============================] - 2s 620us/step - loss: 0.4315 - accuracy: 0.7684\n",
      "Epoch 22/100\n",
      "3061/3061 [==============================] - 2s 608us/step - loss: 0.4314 - accuracy: 0.7696\n",
      "Epoch 23/100\n",
      "3061/3061 [==============================] - 2s 603us/step - loss: 0.4312 - accuracy: 0.7690\n",
      "Epoch 24/100\n",
      "3061/3061 [==============================] - 2s 627us/step - loss: 0.4309 - accuracy: 0.7704\n",
      "Epoch 25/100\n",
      "3061/3061 [==============================] - 2s 602us/step - loss: 0.4308 - accuracy: 0.7698\n",
      "Epoch 26/100\n",
      "3061/3061 [==============================] - 2s 617us/step - loss: 0.4304 - accuracy: 0.7702\n",
      "Epoch 27/100\n",
      "3061/3061 [==============================] - 2s 603us/step - loss: 0.4303 - accuracy: 0.7706\n",
      "Epoch 28/100\n",
      "3061/3061 [==============================] - 2s 611us/step - loss: 0.4299 - accuracy: 0.7710\n",
      "Epoch 29/100\n",
      "3061/3061 [==============================] - 2s 620us/step - loss: 0.4293 - accuracy: 0.7713\n",
      "Epoch 30/100\n",
      "3061/3061 [==============================] - 2s 610us/step - loss: 0.4293 - accuracy: 0.7707\n",
      "Epoch 31/100\n",
      "3061/3061 [==============================] - 2s 607us/step - loss: 0.4292 - accuracy: 0.7707\n",
      "Epoch 32/100\n",
      "3061/3061 [==============================] - 2s 639us/step - loss: 0.4290 - accuracy: 0.7714\n",
      "Epoch 33/100\n",
      "3061/3061 [==============================] - 2s 673us/step - loss: 0.4287 - accuracy: 0.7721\n",
      "Epoch 34/100\n",
      "3061/3061 [==============================] - 2s 673us/step - loss: 0.4288 - accuracy: 0.7728\n",
      "Epoch 35/100\n",
      "3061/3061 [==============================] - 2s 701us/step - loss: 0.4289 - accuracy: 0.7723\n",
      "Epoch 36/100\n",
      "3061/3061 [==============================] - 2s 791us/step - loss: 0.4285 - accuracy: 0.7713\n",
      "Epoch 37/100\n",
      "3061/3061 [==============================] - 2s 674us/step - loss: 0.4283 - accuracy: 0.7718\n",
      "Epoch 38/100\n",
      "3061/3061 [==============================] - 2s 760us/step - loss: 0.4278 - accuracy: 0.7716\n",
      "Epoch 39/100\n",
      "3061/3061 [==============================] - 2s 676us/step - loss: 0.4276 - accuracy: 0.7716\n",
      "Epoch 40/100\n",
      "3061/3061 [==============================] - 2s 625us/step - loss: 0.4279 - accuracy: 0.7713\n",
      "Epoch 41/100\n",
      "3061/3061 [==============================] - 2s 673us/step - loss: 0.4277 - accuracy: 0.7724\n",
      "Epoch 42/100\n",
      "3061/3061 [==============================] - 2s 636us/step - loss: 0.4272 - accuracy: 0.7730\n",
      "Epoch 43/100\n",
      "3061/3061 [==============================] - 2s 658us/step - loss: 0.4273 - accuracy: 0.7732\n",
      "Epoch 44/100\n",
      "3061/3061 [==============================] - 2s 646us/step - loss: 0.4268 - accuracy: 0.7729\n",
      "Epoch 45/100\n",
      "3061/3061 [==============================] - 2s 809us/step - loss: 0.4268 - accuracy: 0.7723\n",
      "Epoch 46/100\n",
      "3061/3061 [==============================] - 2s 771us/step - loss: 0.4266 - accuracy: 0.7733\n",
      "Epoch 47/100\n",
      "3061/3061 [==============================] - 2s 675us/step - loss: 0.4272 - accuracy: 0.7728\n",
      "Epoch 48/100\n",
      "3061/3061 [==============================] - 2s 641us/step - loss: 0.4267 - accuracy: 0.7731\n",
      "Epoch 49/100\n",
      "3061/3061 [==============================] - 2s 697us/step - loss: 0.4265 - accuracy: 0.7737\n",
      "Epoch 50/100\n",
      "3061/3061 [==============================] - 2s 709us/step - loss: 0.4260 - accuracy: 0.7731\n",
      "Epoch 51/100\n",
      "3061/3061 [==============================] - 2s 694us/step - loss: 0.4259 - accuracy: 0.7729\n",
      "Epoch 52/100\n",
      "3061/3061 [==============================] - 2s 729us/step - loss: 0.4259 - accuracy: 0.7728\n",
      "Epoch 53/100\n",
      "3061/3061 [==============================] - 2s 791us/step - loss: 0.4261 - accuracy: 0.7731\n",
      "Epoch 54/100\n",
      "3061/3061 [==============================] - 2s 659us/step - loss: 0.4258 - accuracy: 0.7727\n",
      "Epoch 55/100\n",
      "3061/3061 [==============================] - 2s 643us/step - loss: 0.4257 - accuracy: 0.7741\n",
      "Epoch 56/100\n",
      "3061/3061 [==============================] - 2s 635us/step - loss: 0.4255 - accuracy: 0.7739\n",
      "Epoch 57/100\n",
      "3061/3061 [==============================] - 2s 601us/step - loss: 0.4255 - accuracy: 0.7736\n",
      "Epoch 58/100\n",
      "3061/3061 [==============================] - 2s 627us/step - loss: 0.4255 - accuracy: 0.7736\n",
      "Epoch 59/100\n",
      "3061/3061 [==============================] - 2s 635us/step - loss: 0.4252 - accuracy: 0.7742\n",
      "Epoch 60/100\n",
      "3061/3061 [==============================] - 2s 597us/step - loss: 0.4246 - accuracy: 0.7746\n",
      "Epoch 61/100\n",
      "3061/3061 [==============================] - 2s 588us/step - loss: 0.4250 - accuracy: 0.7736\n",
      "Epoch 62/100\n",
      "3061/3061 [==============================] - 2s 621us/step - loss: 0.4245 - accuracy: 0.7743\n",
      "Epoch 63/100\n",
      "3061/3061 [==============================] - 2s 606us/step - loss: 0.4248 - accuracy: 0.7739\n",
      "Epoch 64/100\n",
      "3061/3061 [==============================] - 2s 656us/step - loss: 0.4246 - accuracy: 0.7748\n",
      "Epoch 65/100\n",
      "3061/3061 [==============================] - 2s 708us/step - loss: 0.4239 - accuracy: 0.7747\n",
      "Epoch 66/100\n",
      "3061/3061 [==============================] - 2s 692us/step - loss: 0.4245 - accuracy: 0.7750\n",
      "Epoch 67/100\n",
      "3061/3061 [==============================] - 2s 618us/step - loss: 0.4252 - accuracy: 0.7744\n",
      "Epoch 68/100\n",
      "3061/3061 [==============================] - 2s 644us/step - loss: 0.4247 - accuracy: 0.7748\n",
      "Epoch 69/100\n",
      "3061/3061 [==============================] - 2s 645us/step - loss: 0.4245 - accuracy: 0.7743\n",
      "Epoch 70/100\n",
      "3061/3061 [==============================] - 2s 650us/step - loss: 0.4242 - accuracy: 0.7756\n",
      "Epoch 71/100\n",
      "3061/3061 [==============================] - 2s 688us/step - loss: 0.4246 - accuracy: 0.7748\n",
      "Epoch 72/100\n",
      "3061/3061 [==============================] - 2s 710us/step - loss: 0.4241 - accuracy: 0.7750\n",
      "Epoch 73/100\n",
      "3061/3061 [==============================] - 2s 628us/step - loss: 0.4238 - accuracy: 0.7751\n",
      "Epoch 74/100\n",
      "3061/3061 [==============================] - 2s 628us/step - loss: 0.4238 - accuracy: 0.7743\n",
      "Epoch 75/100\n",
      "3061/3061 [==============================] - 2s 611us/step - loss: 0.4239 - accuracy: 0.7754\n",
      "Epoch 76/100\n",
      "3061/3061 [==============================] - 2s 613us/step - loss: 0.4238 - accuracy: 0.7748\n",
      "Epoch 77/100\n",
      "3061/3061 [==============================] - 2s 614us/step - loss: 0.4233 - accuracy: 0.7760\n",
      "Epoch 78/100\n",
      "3061/3061 [==============================] - 2s 626us/step - loss: 0.4238 - accuracy: 0.7767\n",
      "Epoch 79/100\n",
      "3061/3061 [==============================] - 2s 616us/step - loss: 0.4232 - accuracy: 0.7755\n",
      "Epoch 80/100\n",
      "3061/3061 [==============================] - 2s 605us/step - loss: 0.4234 - accuracy: 0.7762\n",
      "Epoch 81/100\n",
      "3061/3061 [==============================] - 2s 625us/step - loss: 0.4230 - accuracy: 0.7757\n",
      "Epoch 82/100\n",
      "3061/3061 [==============================] - 2s 606us/step - loss: 0.4231 - accuracy: 0.7760\n",
      "Epoch 83/100\n",
      "3061/3061 [==============================] - 2s 608us/step - loss: 0.4232 - accuracy: 0.7764\n",
      "Epoch 84/100\n",
      "3061/3061 [==============================] - 2s 618us/step - loss: 0.4230 - accuracy: 0.7762\n",
      "Epoch 85/100\n",
      "3061/3061 [==============================] - 2s 652us/step - loss: 0.4230 - accuracy: 0.7754\n",
      "Epoch 86/100\n",
      "3061/3061 [==============================] - 2s 675us/step - loss: 0.4231 - accuracy: 0.7763\n",
      "Epoch 87/100\n",
      "3061/3061 [==============================] - 2s 710us/step - loss: 0.4228 - accuracy: 0.7760\n",
      "Epoch 88/100\n",
      "3061/3061 [==============================] - 2s 644us/step - loss: 0.4229 - accuracy: 0.7755\n",
      "Epoch 89/100\n",
      "3061/3061 [==============================] - 2s 641us/step - loss: 0.4234 - accuracy: 0.7751\n",
      "Epoch 90/100\n",
      "3061/3061 [==============================] - 2s 608us/step - loss: 0.4230 - accuracy: 0.7750\n",
      "Epoch 91/100\n",
      "3061/3061 [==============================] - 2s 604us/step - loss: 0.4225 - accuracy: 0.7760\n",
      "Epoch 92/100\n",
      "3061/3061 [==============================] - 2s 596us/step - loss: 0.4226 - accuracy: 0.7754\n",
      "Epoch 93/100\n",
      "3061/3061 [==============================] - 2s 593us/step - loss: 0.4228 - accuracy: 0.7760\n",
      "Epoch 94/100\n",
      "3061/3061 [==============================] - 2s 601us/step - loss: 0.4226 - accuracy: 0.7758\n",
      "Epoch 95/100\n",
      "3061/3061 [==============================] - 2s 608us/step - loss: 0.4221 - accuracy: 0.7764\n",
      "Epoch 96/100\n",
      "3061/3061 [==============================] - 2s 595us/step - loss: 0.4229 - accuracy: 0.7748\n",
      "Epoch 97/100\n",
      "3061/3061 [==============================] - 2s 599us/step - loss: 0.4224 - accuracy: 0.7755\n",
      "Epoch 98/100\n",
      "3061/3061 [==============================] - 2s 623us/step - loss: 0.4223 - accuracy: 0.7759\n",
      "Epoch 99/100\n",
      "3061/3061 [==============================] - 2s 683us/step - loss: 0.4226 - accuracy: 0.7758\n",
      "Epoch 100/100\n",
      "3061/3061 [==============================] - 2s 657us/step - loss: 0.4224 - accuracy: 0.7765\n"
     ]
    },
    {
     "output_type": "execute_result",
     "data": {
      "text/plain": [
       "<keras.callbacks.History at 0x22a09a28fa0>"
      ]
     },
     "metadata": {},
     "execution_count": 31
    }
   ],
   "metadata": {}
  },
  {
   "cell_type": "code",
   "execution_count": 32,
   "source": [
    "#putting the prediction and real together\r\n",
    "y_pred = ann.predict(X_test)\r\n",
    "y_pred = (y_pred > 0.5)\r\n",
    "print(np.concatenate((y_pred.reshape(len(y_pred),1), y_test.reshape(len(y_test),1)),1))"
   ],
   "outputs": [
    {
     "output_type": "stream",
     "name": "stdout",
     "text": [
      "[[0 0]\n",
      " [1 1]\n",
      " [0 1]\n",
      " ...\n",
      " [1 0]\n",
      " [0 0]\n",
      " [0 1]]\n"
     ]
    }
   ],
   "metadata": {}
  },
  {
   "cell_type": "code",
   "execution_count": 33,
   "source": [
    "from sklearn.metrics import confusion_matrix, accuracy_score\r\n",
    "cm = confusion_matrix(y_test, y_pred)\r\n",
    "print(cm)\r\n",
    "accuracy_score(y_test, y_pred)"
   ],
   "outputs": [
    {
     "output_type": "stream",
     "name": "stdout",
     "text": [
      "[[9648 2297]\n",
      " [3551 8986]]\n"
     ]
    },
    {
     "output_type": "execute_result",
     "data": {
      "text/plain": [
       "0.7611306265827955"
      ]
     },
     "metadata": {},
     "execution_count": 33
    }
   ],
   "metadata": {}
  }
 ],
 "metadata": {
  "orig_nbformat": 4,
  "language_info": {
   "name": "python",
   "version": "3.9.0",
   "mimetype": "text/x-python",
   "codemirror_mode": {
    "name": "ipython",
    "version": 3
   },
   "pygments_lexer": "ipython3",
   "nbconvert_exporter": "python",
   "file_extension": ".py"
  },
  "kernelspec": {
   "name": "python3",
   "display_name": "Python 3.9.0 64-bit"
  },
  "interpreter": {
   "hash": "e083722571f9f0ec84a5baf48f347dbe11928b35218b5666fd9f4885e1b3b744"
  }
 },
 "nbformat": 4,
 "nbformat_minor": 2
}